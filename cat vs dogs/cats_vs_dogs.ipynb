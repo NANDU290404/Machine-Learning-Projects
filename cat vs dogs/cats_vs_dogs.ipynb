{
  "nbformat": 4,
  "nbformat_minor": 0,
  "metadata": {
    "colab": {
      "provenance": []
    },
    "kernelspec": {
      "name": "python3",
      "display_name": "Python 3"
    },
    "language_info": {
      "name": "python"
    }
  },
  "cells": [
    {
      "cell_type": "code",
      "execution_count": 1,
      "metadata": {
        "id": "9oj9QRdZZQAT"
      },
      "outputs": [],
      "source": [
        "import matplotlib.pyplot as plt\n",
        "import tensorflow as tf\n",
        "import pandas as pd\n",
        "import numpy as np\n",
        "\n",
        "import warnings\n",
        "warnings.filterwarnings('ignore')\n",
        "\n",
        "from tensorflow import keras\n",
        "from keras import layers\n",
        "from tensorflow.keras.models import Sequential\n",
        "from tensorflow.keras.layers import Activation, Dropout, Flatten, Dense\n",
        "from tensorflow.keras.layers import Conv2D, MaxPooling2D\n",
        "from tensorflow.keras.utils import image_dataset_from_directory\n",
        "from tensorflow.keras.preprocessing.image import ImageDataGenerator, load_img\n",
        "from tensorflow.keras.preprocessing import image_dataset_from_directory\n",
        "\n",
        "import os\n",
        "import matplotlib.image as mpimg\n"
      ]
    },
    {
      "cell_type": "code",
      "source": [
        "from zipfile import ZipFile\n",
        "\n",
        "data_path = 'dog-vs-cat-classification.zip'\n",
        "\n",
        "with ZipFile(data_path, 'r') as zip:\n",
        "    zip.extractall()\n",
        "    print('The data set has been extracted.')"
      ],
      "metadata": {
        "id": "pOFbTr0zZfyT"
      },
      "execution_count": null,
      "outputs": []
    },
    {
      "cell_type": "code",
      "source": [
        "path = 'dog-vs-cat-classification'\n",
        "classes = os.listdir(path)\n",
        "classes"
      ],
      "metadata": {
        "id": "m5cTAM1OZoTr"
      },
      "execution_count": null,
      "outputs": []
    },
    {
      "cell_type": "code",
      "source": [
        "fig = plt.gcf()\n",
        "fig.set_size_inches(16, 16)\n",
        "\n",
        "cat_dir = os.path.join('dog-vs-cat-classification/cats')\n",
        "dog_dir = os.path.join('dog-vs-cat-classification/dogs')\n",
        "cat_names = os.listdir(cat_dir)\n",
        "dog_names = os.listdir(dog_dir)\n",
        "\n",
        "pic_index = 210\n",
        "\n",
        "cat_images = [os.path.join(cat_dir, fname)\n",
        "              for fname in cat_names[pic_index-8:pic_index]]\n",
        "dog_images = [os.path.join(dog_dir, fname)\n",
        "              for fname in dog_names[pic_index-8:pic_index]]\n",
        "\n",
        "for i, img_path in enumerate(cat_images + dog_images):\n",
        "    sp = plt.subplot(4, 4, i+1)\n",
        "    sp.axis('Off')\n",
        "\n",
        "    img = mpimg.imread(img_path)\n",
        "    plt.imshow(img)\n",
        "\n",
        "plt.show()"
      ],
      "metadata": {
        "id": "6_eivUOoZu17"
      },
      "execution_count": null,
      "outputs": []
    },
    {
      "cell_type": "code",
      "source": [
        "base_dir = 'dog-vs-cat-classification'\n",
        "\n",
        "# Create datasets\n",
        "train_datagen = image_dataset_from_directory(base_dir,\n",
        "                                                  image_size=(200,200),\n",
        "                                                  subset='training',\n",
        "                                                  seed = 1,\n",
        "                                                 validation_split=0.1,\n",
        "                                                  batch_size= 32)\n",
        "test_datagen = image_dataset_from_directory(base_dir,\n",
        "                                                  image_size=(200,200),\n",
        "                                                  subset='validation',\n",
        "                                                  seed = 1,\n",
        "                                                 validation_split=0.1,\n",
        "                                                  batch_size= 32)"
      ],
      "metadata": {
        "id": "oLVTEbrNZuoS"
      },
      "execution_count": null,
      "outputs": []
    },
    {
      "cell_type": "code",
      "source": [
        "model = tf.keras.models.Sequential([\n",
        "    layers.Conv2D(32, (3, 3), activation='relu', input_shape=(200, 200, 3)),\n",
        "    layers.MaxPooling2D(2, 2),\n",
        "    layers.Conv2D(64, (3, 3), activation='relu'),\n",
        "    layers.MaxPooling2D(2, 2),\n",
        "    layers.Conv2D(64, (3, 3), activation='relu'),\n",
        "    layers.MaxPooling2D(2, 2),\n",
        "    layers.Conv2D(64, (3, 3), activation='relu'),\n",
        "    layers.MaxPooling2D(2, 2),\n",
        "\n",
        "    layers.Flatten(),\n",
        "    layers.Dense(512, activation='relu'),\n",
        "    layers.BatchNormalization(),\n",
        "    layers.Dense(512, activation='relu'),\n",
        "    layers.Dropout(0.1),\n",
        "    layers.BatchNormalization(),\n",
        "    layers.Dense(512, activation='relu'),\n",
        "    layers.Dropout(0.2),\n",
        "    layers.BatchNormalization(),\n",
        "    layers.Dense(1, activation='sigmoid')\n",
        "])"
      ],
      "metadata": {
        "id": "k4rQDtUdZuWG"
      },
      "execution_count": null,
      "outputs": []
    },
    {
      "cell_type": "code",
      "source": [
        "model.summary()"
      ],
      "metadata": {
        "id": "eM5wYsxhaEP1"
      },
      "execution_count": null,
      "outputs": []
    },
    {
      "cell_type": "code",
      "source": [
        "keras.utils.plot_model(\n",
        "    model,\n",
        "    show_shapes=True,\n",
        "    show_dtype=True,\n",
        "    show_layer_activations=True\n",
        ")"
      ],
      "metadata": {
        "id": "WhM0LBp6aFz0"
      },
      "execution_count": null,
      "outputs": []
    },
    {
      "cell_type": "code",
      "source": [
        "model.compile(\n",
        "    loss='binary_crossentropy',\n",
        "    optimizer='adam',\n",
        "    metrics=['accuracy']\n",
        ")"
      ],
      "metadata": {
        "id": "LRu6-6lXaKL-"
      },
      "execution_count": null,
      "outputs": []
    },
    {
      "cell_type": "code",
      "source": [
        "history = model.fit(train_datagen,\n",
        "          epochs=10,\n",
        "          validation_data=test_datagen)"
      ],
      "metadata": {
        "id": "H_uXKDU3aJ3-"
      },
      "execution_count": null,
      "outputs": []
    },
    {
      "cell_type": "code",
      "source": [
        "history_df = pd.DataFrame(history.history)\n",
        "history_df.loc[:, ['loss', 'val_loss']].plot()\n",
        "history_df.loc[:, ['accuracy', 'val_accuracy']].plot()\n",
        "plt.show()"
      ],
      "metadata": {
        "id": "bvDloJIUaYAA"
      },
      "execution_count": null,
      "outputs": []
    },
    {
      "cell_type": "code",
      "source": [
        "from keras.preprocessing import image\n",
        "\n",
        "#Input image\n",
        "test_image = image.load_img('1.jpg',target_size=(200,200))\n",
        "\n",
        "#For show image\n",
        "plt.imshow(test_image)\n",
        "test_image = image.img_to_array(test_image)\n",
        "test_image = np.expand_dims(test_image,axis=0)\n",
        "\n",
        "# Result array\n",
        "result = model.predict(test_image)\n",
        "\n",
        "#Mapping result array with the main name list\n",
        "i=0\n",
        "if(result>=0.5):\n",
        "  print(\"Dog\")\n",
        "else:\n",
        "  print(\"Cat\")"
      ],
      "metadata": {
        "id": "DzJtmju-aXgI"
      },
      "execution_count": null,
      "outputs": []
    },
    {
      "cell_type": "code",
      "source": [
        "test_image = image.load_img('test/2.jpg', target_size=(200, 200))\n",
        "\n",
        "# For show image\n",
        "plt.imshow(test_image)\n",
        "test_image = image.img_to_array(test_image)\n",
        "test_image = np.expand_dims(test_image, axis=0)\n",
        "\n",
        "# Result array\n",
        "result = model.predict(test_image)\n",
        "# Mapping result array with the main name list\n",
        "i = 0\n",
        "if(result >= 0.5):\n",
        "    print(\"Dog\")\n",
        "else:\n",
        "    print(\"Cat\")"
      ],
      "metadata": {
        "id": "LoxwuqzbahTK"
      },
      "execution_count": null,
      "outputs": []
    },
    {
      "cell_type": "code",
      "source": [],
      "metadata": {
        "id": "hvJFQMH-ahAQ"
      },
      "execution_count": null,
      "outputs": []
    },
    {
      "cell_type": "code",
      "source": [],
      "metadata": {
        "id": "e617e1Lwag84"
      },
      "execution_count": null,
      "outputs": []
    }
  ]
}